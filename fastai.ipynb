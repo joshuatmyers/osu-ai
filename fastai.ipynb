{
 "cells": [
  {
   "cell_type": "code",
   "execution_count": 1,
   "id": "05e4e692",
   "metadata": {},
   "outputs": [],
   "source": [
    "from fastai.vision.all import *\n",
    "import os"
   ]
  },
  {
   "cell_type": "code",
   "execution_count": 4,
   "id": "3d0d908b",
   "metadata": {},
   "outputs": [],
   "source": [
    "training_csv_file = 'data.csv'\n",
    "path = 'C:/Users/Joshua/Desktop/Data/osu-ai'"
   ]
  },
  {
   "cell_type": "code",
   "execution_count": 5,
   "id": "1413b8dc",
   "metadata": {},
   "outputs": [],
   "source": [
    "lbls = get_files(path, extensions='.csv')\n",
    "imgs = get_image_files(path)"
   ]
  },
  {
   "cell_type": "code",
   "execution_count": 7,
   "id": "b33dafac",
   "metadata": {},
   "outputs": [
    {
     "data": {
      "text/plain": [
       "0"
      ]
     },
     "execution_count": 7,
     "metadata": {},
     "output_type": "execute_result"
    }
   ],
   "source": [
    "len(lbls)"
   ]
  },
  {
   "cell_type": "markdown",
   "id": "940c5304",
   "metadata": {},
   "source": [
    "Creating the text files from the image names, so the data can be handled by the dataloader"
   ]
  },
  {
   "cell_type": "markdown",
   "id": "df153c7e",
   "metadata": {},
   "source": [
    "I am aware that this is very inefficient, but this will have to do for now"
   ]
  },
  {
   "cell_type": "code",
   "execution_count": 8,
   "id": "cb0de0e1",
   "metadata": {},
   "outputs": [
    {
     "data": {
      "text/plain": [
       "Path('C:/Users/Joshua/Desktop/Data/osu-ai/115-188-3005.png')"
      ]
     },
     "execution_count": 8,
     "metadata": {},
     "output_type": "execute_result"
    }
   ],
   "source": [
    "# read the image name, and create a text file, with the same file name, with\n",
    "# the x and y coordinates contained inside\n",
    "for i in range(len(imgs)-1):\n",
    "    "
   ]
  },
  {
   "cell_type": "code",
   "execution_count": 9,
   "id": "29337403",
   "metadata": {},
   "outputs": [
    {
     "data": {
      "text/plain": [
       "range(0, 10)"
      ]
     },
     "execution_count": 9,
     "metadata": {},
     "output_type": "execute_result"
    }
   ],
   "source": []
  },
  {
   "cell_type": "code",
   "execution_count": null,
   "id": "918eaab4",
   "metadata": {},
   "outputs": [],
   "source": []
  }
 ],
 "metadata": {
  "kernelspec": {
   "display_name": "Python 3 (ipykernel)",
   "language": "python",
   "name": "python3"
  },
  "language_info": {
   "codemirror_mode": {
    "name": "ipython",
    "version": 3
   },
   "file_extension": ".py",
   "mimetype": "text/x-python",
   "name": "python",
   "nbconvert_exporter": "python",
   "pygments_lexer": "ipython3",
   "version": "3.9.12"
  }
 },
 "nbformat": 4,
 "nbformat_minor": 5
}
