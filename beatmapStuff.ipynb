{
 "cells": [
  {
   "cell_type": "code",
   "execution_count": 22,
   "id": "53888d51",
   "metadata": {},
   "outputs": [],
   "source": [
    "from circleguard import *\n",
    "import pandas as pd\n",
    "import numpy as np\n"
   ]
  },
  {
   "cell_type": "code",
   "execution_count": 23,
   "id": "b3a9fd5f",
   "metadata": {},
   "outputs": [],
   "source": [
    "cg = circleguard.circleguard.Circleguard(\"aaca10f746d66e41b77bdd5e8fb4c04c59585aa4\")"
   ]
  },
  {
   "cell_type": "code",
   "execution_count": 28,
   "id": "2bf82a4f",
   "metadata": {},
   "outputs": [],
   "source": [
    "map_replay = cg.ReplayPath('C:/Users/joshu/Desktop/CircleGuard/replays/replay1.osr')"
   ]
  },
  {
   "cell_type": "code",
   "execution_count": 37,
   "id": "ea5c591f",
   "metadata": {},
   "outputs": [
    {
     "name": "stdout",
     "output_type": "stream",
     "text": [
      "[[212.1979 166.0117]\n",
      " [211.8073 165.6162]\n",
      " [211.9375 164.166 ]\n",
      " ...\n",
      " [246.7292 227.6377]\n",
      " [263.9167 217.9844]\n",
      " [272.5365 211.9492]]\n"
     ]
    }
   ],
   "source": [
    "print(map_replay.xy)"
   ]
  },
  {
   "cell_type": "code",
   "execution_count": 53,
   "id": "4f8c5691",
   "metadata": {},
   "outputs": [
    {
     "data": {
      "text/plain": [
       "['CORR_LIMIT',\n",
       " 'DEFAULT_ANGLE',\n",
       " 'DEFAULT_CHUNKS',\n",
       " 'DEFAULT_DISTANCE',\n",
       " 'Map',\n",
       " 'MapUser',\n",
       " 'ReplayDir',\n",
       " 'ReplayID',\n",
       " 'ReplayMap',\n",
       " 'ReplayPath',\n",
       " 'ReplayString',\n",
       " 'SIM_LIMIT',\n",
       " 'User',\n",
       " '__class__',\n",
       " '__delattr__',\n",
       " '__dict__',\n",
       " '__dir__',\n",
       " '__doc__',\n",
       " '__eq__',\n",
       " '__format__',\n",
       " '__ge__',\n",
       " '__getattribute__',\n",
       " '__gt__',\n",
       " '__hash__',\n",
       " '__init__',\n",
       " '__init_subclass__',\n",
       " '__le__',\n",
       " '__lt__',\n",
       " '__module__',\n",
       " '__ne__',\n",
       " '__new__',\n",
       " '__reduce__',\n",
       " '__reduce_ex__',\n",
       " '__repr__',\n",
       " '__setattr__',\n",
       " '__sizeof__',\n",
       " '__str__',\n",
       " '__subclasshook__',\n",
       " '__weakref__',\n",
       " '_cleanup',\n",
       " '_finalizer',\n",
       " 'beatmap',\n",
       " 'beatmap_available',\n",
       " 'cache',\n",
       " 'frametime',\n",
       " 'frametime_graph',\n",
       " 'frametimes',\n",
       " 'hits',\n",
       " 'judgments',\n",
       " 'library',\n",
       " 'load',\n",
       " 'load_info',\n",
       " 'loader',\n",
       " 'log',\n",
       " 'map_available',\n",
       " 'similarity',\n",
       " 'slider_dir',\n",
       " 'snaps',\n",
       " 'ur']"
      ]
     },
     "execution_count": 53,
     "metadata": {},
     "output_type": "execute_result"
    }
   ],
   "source": [
    "dir(cg)"
   ]
  },
  {
   "cell_type": "code",
   "execution_count": 56,
   "id": "a1d5eef7",
   "metadata": {},
   "outputs": [],
   "source": [
    "frametimes = cg.frametimes(map_replay)"
   ]
  },
  {
   "cell_type": "code",
   "execution_count": 40,
   "id": "00fe03fb",
   "metadata": {},
   "outputs": [],
   "source": [
    "columnLabels = ['x','y']"
   ]
  },
  {
   "cell_type": "code",
   "execution_count": 41,
   "id": "bf02301e",
   "metadata": {},
   "outputs": [],
   "source": [
    "df = pd.DataFrame(data=map_replay.xy, columns=columnLabels)"
   ]
  },
  {
   "cell_type": "code",
   "execution_count": 57,
   "id": "47f4e9b9",
   "metadata": {},
   "outputs": [],
   "source": [
    "df2 = pd.DataFrame(data=frametimes, columns=['time/ms'])"
   ]
  },
  {
   "cell_type": "code",
   "execution_count": 59,
   "id": "754eaee0",
   "metadata": {},
   "outputs": [
    {
     "data": {
      "text/html": [
       "<div>\n",
       "<style scoped>\n",
       "    .dataframe tbody tr th:only-of-type {\n",
       "        vertical-align: middle;\n",
       "    }\n",
       "\n",
       "    .dataframe tbody tr th {\n",
       "        vertical-align: top;\n",
       "    }\n",
       "\n",
       "    .dataframe thead th {\n",
       "        text-align: right;\n",
       "    }\n",
       "</style>\n",
       "<table border=\"1\" class=\"dataframe\">\n",
       "  <thead>\n",
       "    <tr style=\"text-align: right;\">\n",
       "      <th></th>\n",
       "      <th>time/ms</th>\n",
       "    </tr>\n",
       "  </thead>\n",
       "  <tbody>\n",
       "    <tr>\n",
       "      <th>0</th>\n",
       "      <td>0</td>\n",
       "    </tr>\n",
       "    <tr>\n",
       "      <th>1</th>\n",
       "      <td>5</td>\n",
       "    </tr>\n",
       "    <tr>\n",
       "      <th>2</th>\n",
       "      <td>16</td>\n",
       "    </tr>\n",
       "    <tr>\n",
       "      <th>3</th>\n",
       "      <td>17</td>\n",
       "    </tr>\n",
       "    <tr>\n",
       "      <th>4</th>\n",
       "      <td>15</td>\n",
       "    </tr>\n",
       "  </tbody>\n",
       "</table>\n",
       "</div>"
      ],
      "text/plain": [
       "   time/ms\n",
       "0        0\n",
       "1        5\n",
       "2       16\n",
       "3       17\n",
       "4       15"
      ]
     },
     "execution_count": 59,
     "metadata": {},
     "output_type": "execute_result"
    }
   ],
   "source": [
    "df2.head()"
   ]
  },
  {
   "cell_type": "code",
   "execution_count": 60,
   "id": "1776e5cc",
   "metadata": {},
   "outputs": [
    {
     "data": {
      "text/html": [
       "<div>\n",
       "<style scoped>\n",
       "    .dataframe tbody tr th:only-of-type {\n",
       "        vertical-align: middle;\n",
       "    }\n",
       "\n",
       "    .dataframe tbody tr th {\n",
       "        vertical-align: top;\n",
       "    }\n",
       "\n",
       "    .dataframe thead th {\n",
       "        text-align: right;\n",
       "    }\n",
       "</style>\n",
       "<table border=\"1\" class=\"dataframe\">\n",
       "  <thead>\n",
       "    <tr style=\"text-align: right;\">\n",
       "      <th></th>\n",
       "      <th>x</th>\n",
       "      <th>y</th>\n",
       "    </tr>\n",
       "  </thead>\n",
       "  <tbody>\n",
       "    <tr>\n",
       "      <th>0</th>\n",
       "      <td>212.1979</td>\n",
       "      <td>166.0117</td>\n",
       "    </tr>\n",
       "    <tr>\n",
       "      <th>1</th>\n",
       "      <td>211.8073</td>\n",
       "      <td>165.6162</td>\n",
       "    </tr>\n",
       "    <tr>\n",
       "      <th>2</th>\n",
       "      <td>211.9375</td>\n",
       "      <td>164.1660</td>\n",
       "    </tr>\n",
       "    <tr>\n",
       "      <th>3</th>\n",
       "      <td>211.2865</td>\n",
       "      <td>163.5215</td>\n",
       "    </tr>\n",
       "    <tr>\n",
       "      <th>4</th>\n",
       "      <td>211.2865</td>\n",
       "      <td>163.1260</td>\n",
       "    </tr>\n",
       "  </tbody>\n",
       "</table>\n",
       "</div>"
      ],
      "text/plain": [
       "          x         y\n",
       "0  212.1979  166.0117\n",
       "1  211.8073  165.6162\n",
       "2  211.9375  164.1660\n",
       "3  211.2865  163.5215\n",
       "4  211.2865  163.1260"
      ]
     },
     "execution_count": 60,
     "metadata": {},
     "output_type": "execute_result"
    }
   ],
   "source": [
    "df.head()"
   ]
  },
  {
   "cell_type": "code",
   "execution_count": 34,
   "id": "a5f03cc9",
   "metadata": {},
   "outputs": [
    {
     "name": "stdout",
     "output_type": "stream",
     "text": [
      "None\n"
     ]
    }
   ],
   "source": [
    "cg.load(map_replay)"
   ]
  },
  {
   "cell_type": "code",
   "execution_count": null,
   "id": "9098b300",
   "metadata": {},
   "outputs": [],
   "source": []
  }
 ],
 "metadata": {
  "kernelspec": {
   "display_name": "Python 3 (ipykernel)",
   "language": "python",
   "name": "python3"
  },
  "language_info": {
   "codemirror_mode": {
    "name": "ipython",
    "version": 3
   },
   "file_extension": ".py",
   "mimetype": "text/x-python",
   "name": "python",
   "nbconvert_exporter": "python",
   "pygments_lexer": "ipython3",
   "version": "3.9.12"
  }
 },
 "nbformat": 4,
 "nbformat_minor": 5
}
