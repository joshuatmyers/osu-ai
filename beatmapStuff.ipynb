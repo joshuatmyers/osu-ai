{
 "cells": [
  {
   "cell_type": "code",
   "execution_count": 22,
   "id": "172436bd",
   "metadata": {},
   "outputs": [],
   "source": [
    "from circleguard import *\n",
    "import pandas as pd\n",
    "import numpy as np\n"
   ]
  },
  {
   "cell_type": "code",
   "execution_count": 23,
   "id": "73708ddb",
   "metadata": {},
   "outputs": [],
   "source": [
    "cg = circleguard.circleguard.Circleguard(\"aaca10f746d66e41b77bdd5e8fb4c04c59585aa4\")"
   ]
  },
  {
   "cell_type": "code",
   "execution_count": 28,
   "id": "e372e7d0",
   "metadata": {},
   "outputs": [],
   "source": [
    "map_replay = cg.ReplayPath('C:/Users/joshu/Desktop/CircleGuard/replays/replay1.osr')"
   ]
  },
  {
   "cell_type": "code",
   "execution_count": null,
   "id": "0d9d95e8",
   "metadata": {},
   "outputs": [],
   "source": [
    "cg.load(map_replay)"
   ]
  },
  {
   "cell_type": "code",
   "execution_count": 37,
   "id": "455df6b9",
   "metadata": {},
   "outputs": [
    {
     "name": "stdout",
     "output_type": "stream",
     "text": [
      "[[212.1979 166.0117]\n",
      " [211.8073 165.6162]\n",
      " [211.9375 164.166 ]\n",
      " ...\n",
      " [246.7292 227.6377]\n",
      " [263.9167 217.9844]\n",
      " [272.5365 211.9492]]\n"
     ]
    }
   ],
   "source": [
    "print(map_replay.xy)"
   ]
  },
  {
   "cell_type": "code",
   "execution_count": 63,
   "id": "b8d2e9eb",
   "metadata": {},
   "outputs": [],
   "source": [
    "dir(cg);"
   ]
  },
  {
   "cell_type": "code",
   "execution_count": 56,
   "id": "0f2093d6",
   "metadata": {},
   "outputs": [],
   "source": [
    "frametimes = cg.frametimes(map_replay)"
   ]
  },
  {
   "cell_type": "code",
   "execution_count": 71,
   "id": "37cec107",
   "metadata": {},
   "outputs": [
    {
     "data": {
      "text/plain": [
       "16.0"
      ]
     },
     "execution_count": 71,
     "metadata": {},
     "output_type": "execute_result"
    }
   ],
   "source": [
    "avg_f = cg.frametime(map_replay)\n",
    "avg_f"
   ]
  },
  {
   "cell_type": "code",
   "execution_count": 40,
   "id": "43b88603",
   "metadata": {},
   "outputs": [],
   "source": [
    "columnLabels = ['x','y']"
   ]
  },
  {
   "cell_type": "code",
   "execution_count": 41,
   "id": "68753662",
   "metadata": {},
   "outputs": [],
   "source": [
    "df = pd.DataFrame(data=map_replay.xy, columns=columnLabels)"
   ]
  },
  {
   "cell_type": "code",
   "execution_count": 87,
   "id": "0f0eb276",
   "metadata": {},
   "outputs": [],
   "source": [
    "tail = pd.DataFrame({'frameT/ms': [avg_f]})"
   ]
  },
  {
   "cell_type": "code",
   "execution_count": 88,
   "id": "39398a89",
   "metadata": {},
   "outputs": [
    {
     "data": {
      "text/html": [
       "<div>\n",
       "<style scoped>\n",
       "    .dataframe tbody tr th:only-of-type {\n",
       "        vertical-align: middle;\n",
       "    }\n",
       "\n",
       "    .dataframe tbody tr th {\n",
       "        vertical-align: top;\n",
       "    }\n",
       "\n",
       "    .dataframe thead th {\n",
       "        text-align: right;\n",
       "    }\n",
       "</style>\n",
       "<table border=\"1\" class=\"dataframe\">\n",
       "  <thead>\n",
       "    <tr style=\"text-align: right;\">\n",
       "      <th></th>\n",
       "      <th>frameT/ms</th>\n",
       "    </tr>\n",
       "  </thead>\n",
       "  <tbody>\n",
       "    <tr>\n",
       "      <th>0</th>\n",
       "      <td>16.0</td>\n",
       "    </tr>\n",
       "  </tbody>\n",
       "</table>\n",
       "</div>"
      ],
      "text/plain": [
       "   frameT/ms\n",
       "0       16.0"
      ]
     },
     "execution_count": 88,
     "metadata": {},
     "output_type": "execute_result"
    }
   ],
   "source": [
    "tail.head()"
   ]
  },
  {
   "cell_type": "code",
   "execution_count": 94,
   "id": "b82f9a59",
   "metadata": {},
   "outputs": [],
   "source": [
    "df2 = pd.DataFrame(data=frametimes, columns=['frameT/ms'])\n",
    "df2 = pd.concat([df2,tail], ignore_index=True)\n",
    "df2['time/ms'] = df2['frameT/ms'].cumsum()"
   ]
  },
  {
   "cell_type": "code",
   "execution_count": 95,
   "id": "2731bb6a",
   "metadata": {},
   "outputs": [
    {
     "data": {
      "text/html": [
       "<div>\n",
       "<style scoped>\n",
       "    .dataframe tbody tr th:only-of-type {\n",
       "        vertical-align: middle;\n",
       "    }\n",
       "\n",
       "    .dataframe tbody tr th {\n",
       "        vertical-align: top;\n",
       "    }\n",
       "\n",
       "    .dataframe thead th {\n",
       "        text-align: right;\n",
       "    }\n",
       "</style>\n",
       "<table border=\"1\" class=\"dataframe\">\n",
       "  <thead>\n",
       "    <tr style=\"text-align: right;\">\n",
       "      <th></th>\n",
       "      <th>frameT/ms</th>\n",
       "      <th>time/ms</th>\n",
       "    </tr>\n",
       "  </thead>\n",
       "  <tbody>\n",
       "    <tr>\n",
       "      <th>36506</th>\n",
       "      <td>13.0</td>\n",
       "      <td>527871.0</td>\n",
       "    </tr>\n",
       "    <tr>\n",
       "      <th>36507</th>\n",
       "      <td>14.0</td>\n",
       "      <td>527885.0</td>\n",
       "    </tr>\n",
       "    <tr>\n",
       "      <th>36508</th>\n",
       "      <td>19.0</td>\n",
       "      <td>527904.0</td>\n",
       "    </tr>\n",
       "    <tr>\n",
       "      <th>36509</th>\n",
       "      <td>16.0</td>\n",
       "      <td>527920.0</td>\n",
       "    </tr>\n",
       "    <tr>\n",
       "      <th>36510</th>\n",
       "      <td>16.0</td>\n",
       "      <td>527936.0</td>\n",
       "    </tr>\n",
       "  </tbody>\n",
       "</table>\n",
       "</div>"
      ],
      "text/plain": [
       "       frameT/ms   time/ms\n",
       "36506       13.0  527871.0\n",
       "36507       14.0  527885.0\n",
       "36508       19.0  527904.0\n",
       "36509       16.0  527920.0\n",
       "36510       16.0  527936.0"
      ]
     },
     "execution_count": 95,
     "metadata": {},
     "output_type": "execute_result"
    }
   ],
   "source": [
    "df2.tail()"
   ]
  },
  {
   "cell_type": "code",
   "execution_count": 96,
   "id": "fab291d8",
   "metadata": {},
   "outputs": [
    {
     "data": {
      "text/html": [
       "<div>\n",
       "<style scoped>\n",
       "    .dataframe tbody tr th:only-of-type {\n",
       "        vertical-align: middle;\n",
       "    }\n",
       "\n",
       "    .dataframe tbody tr th {\n",
       "        vertical-align: top;\n",
       "    }\n",
       "\n",
       "    .dataframe thead th {\n",
       "        text-align: right;\n",
       "    }\n",
       "</style>\n",
       "<table border=\"1\" class=\"dataframe\">\n",
       "  <thead>\n",
       "    <tr style=\"text-align: right;\">\n",
       "      <th></th>\n",
       "      <th>x</th>\n",
       "      <th>y</th>\n",
       "    </tr>\n",
       "  </thead>\n",
       "  <tbody>\n",
       "    <tr>\n",
       "      <th>0</th>\n",
       "      <td>212.1979</td>\n",
       "      <td>166.0117</td>\n",
       "    </tr>\n",
       "    <tr>\n",
       "      <th>1</th>\n",
       "      <td>211.8073</td>\n",
       "      <td>165.6162</td>\n",
       "    </tr>\n",
       "    <tr>\n",
       "      <th>2</th>\n",
       "      <td>211.9375</td>\n",
       "      <td>164.1660</td>\n",
       "    </tr>\n",
       "    <tr>\n",
       "      <th>3</th>\n",
       "      <td>211.2865</td>\n",
       "      <td>163.5215</td>\n",
       "    </tr>\n",
       "    <tr>\n",
       "      <th>4</th>\n",
       "      <td>211.2865</td>\n",
       "      <td>163.1260</td>\n",
       "    </tr>\n",
       "  </tbody>\n",
       "</table>\n",
       "</div>"
      ],
      "text/plain": [
       "          x         y\n",
       "0  212.1979  166.0117\n",
       "1  211.8073  165.6162\n",
       "2  211.9375  164.1660\n",
       "3  211.2865  163.5215\n",
       "4  211.2865  163.1260"
      ]
     },
     "execution_count": 96,
     "metadata": {},
     "output_type": "execute_result"
    }
   ],
   "source": [
    "df.head()"
   ]
  },
  {
   "cell_type": "code",
   "execution_count": 97,
   "id": "6ab1c174",
   "metadata": {},
   "outputs": [
    {
     "name": "stdout",
     "output_type": "stream",
     "text": [
      "36511 36511\n"
     ]
    }
   ],
   "source": [
    "print(len(df),len(df2))"
   ]
  },
  {
   "cell_type": "code",
   "execution_count": 98,
   "id": "ab99ccbf",
   "metadata": {},
   "outputs": [],
   "source": [
    "data = pd.concat([df, df2], axis=1)"
   ]
  },
  {
   "cell_type": "code",
   "execution_count": 99,
   "id": "295be311",
   "metadata": {},
   "outputs": [
    {
     "data": {
      "text/html": [
       "<div>\n",
       "<style scoped>\n",
       "    .dataframe tbody tr th:only-of-type {\n",
       "        vertical-align: middle;\n",
       "    }\n",
       "\n",
       "    .dataframe tbody tr th {\n",
       "        vertical-align: top;\n",
       "    }\n",
       "\n",
       "    .dataframe thead th {\n",
       "        text-align: right;\n",
       "    }\n",
       "</style>\n",
       "<table border=\"1\" class=\"dataframe\">\n",
       "  <thead>\n",
       "    <tr style=\"text-align: right;\">\n",
       "      <th></th>\n",
       "      <th>x</th>\n",
       "      <th>y</th>\n",
       "      <th>frameT/ms</th>\n",
       "      <th>time/ms</th>\n",
       "    </tr>\n",
       "  </thead>\n",
       "  <tbody>\n",
       "    <tr>\n",
       "      <th>0</th>\n",
       "      <td>212.1979</td>\n",
       "      <td>166.0117</td>\n",
       "      <td>0.0</td>\n",
       "      <td>0.0</td>\n",
       "    </tr>\n",
       "    <tr>\n",
       "      <th>1</th>\n",
       "      <td>211.8073</td>\n",
       "      <td>165.6162</td>\n",
       "      <td>5.0</td>\n",
       "      <td>5.0</td>\n",
       "    </tr>\n",
       "    <tr>\n",
       "      <th>2</th>\n",
       "      <td>211.9375</td>\n",
       "      <td>164.1660</td>\n",
       "      <td>16.0</td>\n",
       "      <td>21.0</td>\n",
       "    </tr>\n",
       "    <tr>\n",
       "      <th>3</th>\n",
       "      <td>211.2865</td>\n",
       "      <td>163.5215</td>\n",
       "      <td>17.0</td>\n",
       "      <td>38.0</td>\n",
       "    </tr>\n",
       "    <tr>\n",
       "      <th>4</th>\n",
       "      <td>211.2865</td>\n",
       "      <td>163.1260</td>\n",
       "      <td>15.0</td>\n",
       "      <td>53.0</td>\n",
       "    </tr>\n",
       "  </tbody>\n",
       "</table>\n",
       "</div>"
      ],
      "text/plain": [
       "          x         y  frameT/ms  time/ms\n",
       "0  212.1979  166.0117        0.0      0.0\n",
       "1  211.8073  165.6162        5.0      5.0\n",
       "2  211.9375  164.1660       16.0     21.0\n",
       "3  211.2865  163.5215       17.0     38.0\n",
       "4  211.2865  163.1260       15.0     53.0"
      ]
     },
     "execution_count": 99,
     "metadata": {},
     "output_type": "execute_result"
    }
   ],
   "source": [
    "data.head()"
   ]
  },
  {
   "cell_type": "code",
   "execution_count": 100,
   "id": "4538f2e6",
   "metadata": {},
   "outputs": [
    {
     "data": {
      "text/html": [
       "<div>\n",
       "<style scoped>\n",
       "    .dataframe tbody tr th:only-of-type {\n",
       "        vertical-align: middle;\n",
       "    }\n",
       "\n",
       "    .dataframe tbody tr th {\n",
       "        vertical-align: top;\n",
       "    }\n",
       "\n",
       "    .dataframe thead th {\n",
       "        text-align: right;\n",
       "    }\n",
       "</style>\n",
       "<table border=\"1\" class=\"dataframe\">\n",
       "  <thead>\n",
       "    <tr style=\"text-align: right;\">\n",
       "      <th></th>\n",
       "      <th>x</th>\n",
       "      <th>y</th>\n",
       "      <th>frameT/ms</th>\n",
       "      <th>time/ms</th>\n",
       "    </tr>\n",
       "  </thead>\n",
       "  <tbody>\n",
       "    <tr>\n",
       "      <th>36506</th>\n",
       "      <td>232.5625</td>\n",
       "      <td>231.0508</td>\n",
       "      <td>13.0</td>\n",
       "      <td>527871.0</td>\n",
       "    </tr>\n",
       "    <tr>\n",
       "      <th>36507</th>\n",
       "      <td>237.1458</td>\n",
       "      <td>230.0693</td>\n",
       "      <td>14.0</td>\n",
       "      <td>527885.0</td>\n",
       "    </tr>\n",
       "    <tr>\n",
       "      <th>36508</th>\n",
       "      <td>246.7292</td>\n",
       "      <td>227.6377</td>\n",
       "      <td>19.0</td>\n",
       "      <td>527904.0</td>\n",
       "    </tr>\n",
       "    <tr>\n",
       "      <th>36509</th>\n",
       "      <td>263.9167</td>\n",
       "      <td>217.9844</td>\n",
       "      <td>16.0</td>\n",
       "      <td>527920.0</td>\n",
       "    </tr>\n",
       "    <tr>\n",
       "      <th>36510</th>\n",
       "      <td>272.5365</td>\n",
       "      <td>211.9492</td>\n",
       "      <td>16.0</td>\n",
       "      <td>527936.0</td>\n",
       "    </tr>\n",
       "  </tbody>\n",
       "</table>\n",
       "</div>"
      ],
      "text/plain": [
       "              x         y  frameT/ms   time/ms\n",
       "36506  232.5625  231.0508       13.0  527871.0\n",
       "36507  237.1458  230.0693       14.0  527885.0\n",
       "36508  246.7292  227.6377       19.0  527904.0\n",
       "36509  263.9167  217.9844       16.0  527920.0\n",
       "36510  272.5365  211.9492       16.0  527936.0"
      ]
     },
     "execution_count": 100,
     "metadata": {},
     "output_type": "execute_result"
    }
   ],
   "source": [
    "data.tail()"
   ]
  },
  {
   "cell_type": "code",
   "execution_count": null,
   "id": "c66c738d",
   "metadata": {},
   "outputs": [],
   "source": []
  },
  {
   "cell_type": "code",
   "execution_count": null,
   "id": "fe27cda4",
   "metadata": {},
   "outputs": [],
   "source": []
  }
 ],
 "metadata": {
  "kernelspec": {
   "display_name": "Python 3 (ipykernel)",
   "language": "python",
   "name": "python3"
  },
  "language_info": {
   "codemirror_mode": {
    "name": "ipython",
    "version": 3
   },
   "file_extension": ".py",
   "mimetype": "text/x-python",
   "name": "python",
   "nbconvert_exporter": "python",
   "pygments_lexer": "ipython3",
   "version": "3.9.12"
  }
 },
 "nbformat": 4,
 "nbformat_minor": 5
}
