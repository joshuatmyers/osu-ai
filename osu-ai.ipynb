{
 "cells": [
  {
   "cell_type": "code",
   "execution_count": 10,
   "id": "6bb4cc88",
   "metadata": {},
   "outputs": [],
   "source": [
    "import numpy as np\n",
    "import torch\n",
    "import cv2 as cv\n",
    "import PySide2.QtCore\n",
    "import matplotlib.pyplot as plt\n",
    "from roboflow import Roboflow\n",
    "from env import api_key"
   ]
  },
  {
   "cell_type": "markdown",
   "id": "a063f5c3",
   "metadata": {},
   "source": [
    "## Objectives \n",
    "The aim of this project is to try and teach a computer how to play osu\n",
    "### Initial Ideas \n",
    "* Controlls using openCV\n",
    "* Annotate images using label studio\n",
    "* Neural network using pyTorch\n",
    "* Calculate loss depending on unstable rate\n",
    "\n",
    "* I am incredibly new to machine learning, and is just something I'm doing for fun *"
   ]
  },
  {
   "cell_type": "markdown",
   "id": "1d82bf42",
   "metadata": {},
   "source": [
    "First of all, I created a dataset after splitting some osu gameplay into frames using ffmpeg. Due to issues with creating an environment with labelImg and label studio, I decided to use roboflow. The code importing this dataset is below"
   ]
  },
  {
   "cell_type": "code",
   "execution_count": 11,
   "id": "cd6f95a2",
   "metadata": {},
   "outputs": [
    {
     "name": "stdout",
     "output_type": "stream",
     "text": [
      "loading Roboflow workspace...\n",
      "loading Roboflow project...\n",
      "Downloading Dataset Version Zip in osu-ai-1 to yolov5pytorch: 100% [802481 / 802481] bytes\n"
     ]
    },
    {
     "name": "stderr",
     "output_type": "stream",
     "text": [
      "Extracting Dataset Version Zip to osu-ai-1 in yolov5pytorch:: 100%|██████████| 90/90 [00:00<00:00, 2307.68it/s]\n"
     ]
    }
   ],
   "source": [
    "rf = Roboflow(api_key)\n",
    "project = rf.workspace(\"osuai\").project(\"osu-ai\")\n",
    "dataset = project.version(1).download(\"yolov5\")"
   ]
  }
 ],
 "metadata": {
  "kernelspec": {
   "display_name": "Python 3.10.5 64-bit",
   "language": "python",
   "name": "python3"
  },
  "language_info": {
   "codemirror_mode": {
    "name": "ipython",
    "version": 3
   },
   "file_extension": ".py",
   "mimetype": "text/x-python",
   "name": "python",
   "nbconvert_exporter": "python",
   "pygments_lexer": "ipython3",
   "version": "3.10.5"
  },
  "vscode": {
   "interpreter": {
    "hash": "289e6dbf0cbe13abb58a8c6441fb07dbab3e022f897dda6d31a08b19d28acfde"
   }
  }
 },
 "nbformat": 4,
 "nbformat_minor": 5
}
