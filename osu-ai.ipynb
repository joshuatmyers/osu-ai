{
 "cells": [
  {
   "cell_type": "code",
   "execution_count": 3,
   "id": "6bb4cc88",
   "metadata": {},
   "outputs": [],
   "source": [
    "import numpy as np\n",
    "import torch\n",
    "import cv2\n",
    "import PySide2.QtCore\n",
    "import matplotlib.pyplot as plt"
   ]
  },
  {
   "cell_type": "markdown",
   "id": "a063f5c3",
   "metadata": {},
   "source": [
    "** Objectives **\n",
    "The aim of this project is to try and teach a computer how to play osu\n",
    "** Initial Ideas **\n",
    "* Controlls using openCV\n",
    "* Annotate images using label studio\n",
    "* Neural network using pyTorch\n",
    "\n",
    "* I am incredibly new to machine learning, and is just something I'm doing for fun *"
   ]
  },
  {
   "cell_type": "code",
   "execution_count": null,
   "id": "1d82bf42",
   "metadata": {},
   "outputs": [],
   "source": []
  }
 ],
 "metadata": {
  "kernelspec": {
   "display_name": "Python 3.10.5 64-bit",
   "language": "python",
   "name": "python3"
  },
  "language_info": {
   "codemirror_mode": {
    "name": "ipython",
    "version": 3
   },
   "file_extension": ".py",
   "mimetype": "text/x-python",
   "name": "python",
   "nbconvert_exporter": "python",
   "pygments_lexer": "ipython3",
   "version": "3.10.5"
  },
  "vscode": {
   "interpreter": {
    "hash": "289e6dbf0cbe13abb58a8c6441fb07dbab3e022f897dda6d31a08b19d28acfde"
   }
  }
 },
 "nbformat": 4,
 "nbformat_minor": 5
}
