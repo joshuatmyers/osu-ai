{
 "cells": [
  {
   "cell_type": "code",
   "execution_count": 2,
   "id": "479a9c03",
   "metadata": {},
   "outputs": [
    {
     "name": "stdout",
     "output_type": "stream",
     "text": [
      "Requirement already satisfied: opencv-python in c:\\users\\joshu\\anaconda3\\lib\\site-packages (4.6.0.66)\n",
      "Requirement already satisfied: numpy>=1.19.3 in c:\\users\\joshu\\anaconda3\\lib\\site-packages (from opencv-python) (1.21.5)\n",
      "Requirement already satisfied: numpy in c:\\users\\joshu\\anaconda3\\lib\\site-packages (1.21.5)\n"
     ]
    }
   ],
   "source": [
    "!pip install opencv-python\n",
    "!pip install numpy"
   ]
  },
  {
   "cell_type": "code",
   "execution_count": 4,
   "id": "5b6b02cf",
   "metadata": {},
   "outputs": [],
   "source": [
    "import cv2\n",
    "import numpy as np"
   ]
  },
  {
   "cell_type": "markdown",
   "id": "62720c9b",
   "metadata": {},
   "source": [
    "### Loading images"
   ]
  },
  {
   "cell_type": "code",
   "execution_count": 6,
   "id": "bda4ca54",
   "metadata": {},
   "outputs": [],
   "source": [
    "cursor_img = cv2.imread('cursor.png', cv2.IMREAD_UNCHANGED)\n",
    "game_img = cv2.imread('example.png', cv2.IMREAD_UNCHANGED)"
   ]
  },
  {
   "cell_type": "markdown",
   "id": "6374487c",
   "metadata": {},
   "source": [
    "Code below shows the image of the game"
   ]
  },
  {
   "cell_type": "code",
   "execution_count": 7,
   "id": "632fa59d",
   "metadata": {},
   "outputs": [],
   "source": [
    "cv2.imshow('Game', game_img)\n",
    "cv2.waitKey()\n",
    "cv2.destroyAllWindows()"
   ]
  },
  {
   "cell_type": "markdown",
   "id": "59c79c39",
   "metadata": {},
   "source": [
    "### Template matching"
   ]
  },
  {
   "cell_type": "code",
   "execution_count": 8,
   "id": "32059e40",
   "metadata": {},
   "outputs": [],
   "source": [
    "result = cv2.matchTemplate(game_img, cursor_img, cv2.TM_CCOEFF_NORMED)"
   ]
  },
  {
   "cell_type": "markdown",
   "id": "eef30bb7",
   "metadata": {},
   "source": [
    "### View result"
   ]
  },
  {
   "cell_type": "code",
   "execution_count": 9,
   "id": "d45abddb",
   "metadata": {},
   "outputs": [],
   "source": [
    "cv2.imshow('Result', result)\n",
    "cv2.waitKey()\n",
    "cv2.destroyAllWindows()"
   ]
  },
  {
   "cell_type": "code",
   "execution_count": 10,
   "id": "0f4f2eae",
   "metadata": {},
   "outputs": [],
   "source": [
    "min_val, max_val, min_loc, max_loc = cv2.minMaxLoc(result)"
   ]
  },
  {
   "cell_type": "code",
   "execution_count": 11,
   "id": "4fc1f227",
   "metadata": {},
   "outputs": [
    {
     "data": {
      "text/plain": [
       "(395, 127)"
      ]
     },
     "execution_count": 11,
     "metadata": {},
     "output_type": "execute_result"
    }
   ],
   "source": [
    "max_loc"
   ]
  },
  {
   "cell_type": "code",
   "execution_count": 12,
   "id": "ac0d011b",
   "metadata": {},
   "outputs": [
    {
     "data": {
      "text/plain": [
       "0.35856056213378906"
      ]
     },
     "execution_count": 12,
     "metadata": {},
     "output_type": "execute_result"
    }
   ],
   "source": [
    "max_val"
   ]
  },
  {
   "cell_type": "markdown",
   "id": "18499dd3",
   "metadata": {},
   "source": [
    "Maximum value is not very high => may be worth changing the cursor so that it is more visible to opencv"
   ]
  },
  {
   "cell_type": "code",
   "execution_count": 15,
   "id": "e4927fda",
   "metadata": {},
   "outputs": [],
   "source": [
    "w = cursor_img.shape[1]\n",
    "h = cursor_img.shape[0]"
   ]
  },
  {
   "cell_type": "code",
   "execution_count": 17,
   "id": "a552238b",
   "metadata": {},
   "outputs": [
    {
     "data": {
      "text/plain": [
       "array([[[255, 255, 255, 255],\n",
       "        [255, 255, 255, 255],\n",
       "        [255, 255, 255, 255],\n",
       "        ...,\n",
       "        [255, 255, 255, 255],\n",
       "        [255, 255, 255, 255],\n",
       "        [168, 168, 167, 255]],\n",
       "\n",
       "       [[ 17,  16,  17, 255],\n",
       "        [ 17,  16,  17, 255],\n",
       "        [ 17,  16,  17, 255],\n",
       "        ...,\n",
       "        [ 17,  16,  17, 255],\n",
       "        [ 17,  16,  17, 255],\n",
       "        [149, 117,  69, 255]],\n",
       "\n",
       "       [[ 17,  16,  17, 255],\n",
       "        [ 17,  16,  17, 255],\n",
       "        [ 17,  16,  17, 255],\n",
       "        ...,\n",
       "        [ 17,  16,  17, 255],\n",
       "        [ 17,  16,  17, 255],\n",
       "        [149, 117,  69, 255]],\n",
       "\n",
       "       ...,\n",
       "\n",
       "       [[ 87,  74,  21, 255],\n",
       "        [ 83,  76,  47, 255],\n",
       "        [ 35,  32,  25, 255],\n",
       "        ...,\n",
       "        [148, 147, 148, 255],\n",
       "        [209, 209, 209, 255],\n",
       "        [217, 217, 217, 255]],\n",
       "\n",
       "       [[ 85,  71,  15, 255],\n",
       "        [ 90,  79,  33, 255],\n",
       "        [ 79,  73,  47, 255],\n",
       "        ...,\n",
       "        [197, 197, 197, 255],\n",
       "        [216, 216, 216, 255],\n",
       "        [218, 218, 218, 255]],\n",
       "\n",
       "       [[ 85,  72,  15, 255],\n",
       "        [ 86,  72,  16, 255],\n",
       "        [ 89,  78,  32, 255],\n",
       "        ...,\n",
       "        [215, 215, 215, 255],\n",
       "        [217, 217, 217, 255],\n",
       "        [219, 219, 219, 255]]], dtype=uint8)"
      ]
     },
     "execution_count": 17,
     "metadata": {},
     "output_type": "execute_result"
    }
   ],
   "source": [
    "cv2.rectangle(game_img, max_loc, (max_loc[0] + w, max_loc[1] + h), (0,255,255), 2)"
   ]
  },
  {
   "cell_type": "markdown",
   "id": "19e59a9b",
   "metadata": {},
   "source": [
    "### Painting rectangles\n",
    "threshold below must be alterer such there is a small amount of detections. Too little => cursor may not always have a match. Too many => may pick up other objects, will also take too much time when pairing matches for the same object"
   ]
  },
  {
   "cell_type": "code",
   "execution_count": 38,
   "id": "833ac0c4",
   "metadata": {},
   "outputs": [],
   "source": [
    "threshold = .355"
   ]
  },
  {
   "cell_type": "code",
   "execution_count": 39,
   "id": "4306afe5",
   "metadata": {},
   "outputs": [],
   "source": [
    "yloc, xloc = np.where(result >= threshold)"
   ]
  },
  {
   "cell_type": "code",
   "execution_count": 40,
   "id": "bcb73b69",
   "metadata": {},
   "outputs": [
    {
     "data": {
      "text/plain": [
       "14"
      ]
     },
     "execution_count": 40,
     "metadata": {},
     "output_type": "execute_result"
    }
   ],
   "source": [
    "len(xloc)"
   ]
  },
  {
   "cell_type": "code",
   "execution_count": 42,
   "id": "cf3b182b",
   "metadata": {},
   "outputs": [],
   "source": [
    "for (x, y) in zip(xloc, yloc):\n",
    "    cv2.rectangle(game_img, (x, y), (x + w, y + h), (0,255,255), 2)"
   ]
  },
  {
   "cell_type": "code",
   "execution_count": 47,
   "id": "c569f24a",
   "metadata": {},
   "outputs": [],
   "source": [
    "cv2.imshow('Game', game_img)\n",
    "cv2.waitKey()\n",
    "cv2.destroyAllWindows()"
   ]
  },
  {
   "cell_type": "code",
   "execution_count": 45,
   "id": "65ac79db",
   "metadata": {},
   "outputs": [],
   "source": [
    "rectangles = []\n",
    "for (x, y) in zip(xloc, yloc):\n",
    "    rectangles.append([int(x), int(y), int(w), int(h)])\n",
    "    rectangles.append([int(x), int(y), int(w), int(h)])"
   ]
  },
  {
   "cell_type": "code",
   "execution_count": 46,
   "id": "a55701d9",
   "metadata": {},
   "outputs": [
    {
     "data": {
      "text/plain": [
       "28"
      ]
     },
     "execution_count": 46,
     "metadata": {},
     "output_type": "execute_result"
    }
   ],
   "source": [
    "len(rectangles)"
   ]
  },
  {
   "cell_type": "markdown",
   "id": "84a7d58e",
   "metadata": {},
   "source": [
    "Multiple matches appear around the same area (28 in this case). The code below groups the rectangles together such that only one will be produced. The issue is that this code takes a relatively large amount of time."
   ]
  },
  {
   "cell_type": "code",
   "execution_count": 48,
   "id": "53e5595c",
   "metadata": {},
   "outputs": [],
   "source": [
    "rectangles, weights = cv2.groupRectangles(rectangles, 1, 0.2)"
   ]
  },
  {
   "cell_type": "code",
   "execution_count": 49,
   "id": "c55f29d9",
   "metadata": {},
   "outputs": [
    {
     "data": {
      "text/plain": [
       "1"
      ]
     },
     "execution_count": 49,
     "metadata": {},
     "output_type": "execute_result"
    }
   ],
   "source": [
    "len(rectangles)"
   ]
  },
  {
   "cell_type": "markdown",
   "id": "cfc07139",
   "metadata": {},
   "source": [
    "### Expected result obtained as there is only one cursor on the screen at a time"
   ]
  }
 ],
 "metadata": {
  "kernelspec": {
   "display_name": "Python 3 (ipykernel)",
   "language": "python",
   "name": "python3"
  },
  "language_info": {
   "codemirror_mode": {
    "name": "ipython",
    "version": 3
   },
   "file_extension": ".py",
   "mimetype": "text/x-python",
   "name": "python",
   "nbconvert_exporter": "python",
   "pygments_lexer": "ipython3",
   "version": "3.9.12"
  }
 },
 "nbformat": 4,
 "nbformat_minor": 5
}
