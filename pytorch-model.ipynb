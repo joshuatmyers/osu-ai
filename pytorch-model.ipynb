{
 "cells": [
  {
   "cell_type": "code",
   "execution_count": 2,
   "id": "ca8a76a4",
   "metadata": {},
   "outputs": [],
   "source": [
    "import torch\n",
    "from torch import nn\n",
    "import numpy as np\n",
    "import pandas as pd\n"
   ]
  },
  {
   "cell_type": "markdown",
   "id": "bdcaf7fa",
   "metadata": {},
   "source": [
    "### This model will be trained using a convolutional neural network, implemented using pytorch (if all goes well...)"
   ]
  },
  {
   "cell_type": "markdown",
   "id": "6a47068d",
   "metadata": {},
   "source": [
    "I have decided to use a CNN as it best suits the data that is being collected by the program"
   ]
  },
  {
   "cell_type": "markdown",
   "id": "8bf70b2c",
   "metadata": {},
   "source": [
    "Current reading through d2l: (chapters related to this project)\n",
    "Chapter 5 (MLPs) 0%\n",
    "Chapter 7 (CNNs)\n",
    "    7.1 - 100%\n",
    "    7.2 - 100%\n",
    "    7.3 - 100%\n",
    "Chapter 9 (LSTM/RNNs) 0%"
   ]
  },
  {
   "cell_type": "markdown",
   "id": "256da0ca",
   "metadata": {},
   "source": [
    "Functions taken from d2l chapter 7"
   ]
  },
  {
   "cell_type": "code",
   "execution_count": 3,
   "id": "3c3738f5",
   "metadata": {},
   "outputs": [],
   "source": [
    "def corr2d(X, K): \n",
    "    \"\"\"Compute 2D cross-correlation.\"\"\"\n",
    "    h, w = K.shape\n",
    "    Y = torch.zeros((X.shape[0] - h + 1, X.shape[1] - w + 1))\n",
    "    for i in range(Y.shape[0]):\n",
    "        for j in range(Y.shape[1]):\n",
    "            Y[i, j] = (X[i:i + h, j:j + w] * K).sum()\n",
    "    return Y"
   ]
  },
  {
   "cell_type": "code",
   "execution_count": 4,
   "id": "ae6352d6",
   "metadata": {},
   "outputs": [
    {
     "data": {
      "text/plain": [
       "tensor([[19., 25.],\n",
       "        [37., 43.]])"
      ]
     },
     "execution_count": 4,
     "metadata": {},
     "output_type": "execute_result"
    }
   ],
   "source": [
    "X = torch.tensor([[0.0, 1.0, 2.0], [3.0, 4.0, 5.0], [6.0, 7.0, 8.0]])\n",
    "K = torch.tensor([[0.0, 1.0], [2.0, 3.0]])\n",
    "corr2d(X, K)\n",
    "# this performs a cross-correlation on the image 3x3 image X with the \n",
    "# 2x2 kernel K"
   ]
  },
  {
   "cell_type": "code",
   "execution_count": 5,
   "id": "952a4a3f",
   "metadata": {},
   "outputs": [],
   "source": [
    "class Conv2D(nn.Module):\n",
    "    def __init__(self, kernel_size):\n",
    "        super().__init__()\n",
    "        self.weight = nn.Parameter(torch.rand(kernel_size))\n",
    "        self.bias = nn.Parameter(torch.zeros(1))\n",
    "        # initialised with weight and bias as the two parameters\n",
    "\n",
    "    def forward(self, x):\n",
    "        return corr2d(x, self.weight) + self.bias"
   ]
  },
  {
   "cell_type": "code",
   "execution_count": 6,
   "id": "d2800ed2",
   "metadata": {},
   "outputs": [],
   "source": [
    "# the forward propogation function calls the corr2d function, adding the bias"
   ]
  },
  {
   "cell_type": "code",
   "execution_count": null,
   "id": "fa55a8f0",
   "metadata": {},
   "outputs": [],
   "source": []
  }
 ],
 "metadata": {
  "kernelspec": {
   "display_name": "Python 3 (ipykernel)",
   "language": "python",
   "name": "python3"
  },
  "language_info": {
   "codemirror_mode": {
    "name": "ipython",
    "version": 3
   },
   "file_extension": ".py",
   "mimetype": "text/x-python",
   "name": "python",
   "nbconvert_exporter": "python",
   "pygments_lexer": "ipython3",
   "version": "3.9.12"
  }
 },
 "nbformat": 4,
 "nbformat_minor": 5
}
