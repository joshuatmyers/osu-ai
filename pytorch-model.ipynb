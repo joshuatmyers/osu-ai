{
 "cells": [
  {
   "cell_type": "code",
   "execution_count": 14,
   "id": "83b621bf",
   "metadata": {},
   "outputs": [],
   "source": [
    "import torch\n",
    "from torch import nn\n",
    "import numpy as np\n",
    "import pandas as pd\n",
    "import matplotlib.pyplot as plt\n",
    "import config"
   ]
  },
  {
   "cell_type": "markdown",
   "id": "fadc4959",
   "metadata": {},
   "source": [
    "### This model will be trained using a convolutional neural network, implemented using pytorch (if all goes well...)"
   ]
  },
  {
   "cell_type": "markdown",
   "id": "bb059de4",
   "metadata": {},
   "source": [
    "I have decided to use a CNN as it (most likely) suits the data that is being collected by the program best"
   ]
  },
  {
   "cell_type": "markdown",
   "id": "29522373",
   "metadata": {},
   "source": [
    "Current reading through d2l: (chapters related to this project) <br>\n",
    "Chapter 5 (MLPs) 0% <br>\n",
    "Chapter 7 (CNNs) 100% <br>\n",
    "Chapter 8 (Modern CNNs) 0% <br>\n",
    "Chapter 9 (LSTM/RNNs) 0%"
   ]
  },
  {
   "cell_type": "markdown",
   "id": "7e280d49",
   "metadata": {},
   "source": [
    "## Implementation with CNN"
   ]
  },
  {
   "cell_type": "markdown",
   "id": "46b392de",
   "metadata": {},
   "source": [
    "This also includes some of the process of me learning about CNNs"
   ]
  },
  {
   "cell_type": "code",
   "execution_count": 3,
   "id": "f20894d3",
   "metadata": {},
   "outputs": [],
   "source": [
    "def corr2d(X, K): \n",
    "    \"\"\"Compute 2D cross-correlation.\"\"\"\n",
    "    h, w = K.shape\n",
    "    Y = torch.zeros((X.shape[0] - h + 1, X.shape[1] - w + 1))\n",
    "    for i in range(Y.shape[0]):\n",
    "        for j in range(Y.shape[1]):\n",
    "            Y[i, j] = (X[i:i + h, j:j + w] * K).sum()\n",
    "    return Y"
   ]
  },
  {
   "cell_type": "code",
   "execution_count": 4,
   "id": "455326a9",
   "metadata": {},
   "outputs": [
    {
     "data": {
      "text/plain": [
       "tensor([[19., 25.],\n",
       "        [37., 43.]])"
      ]
     },
     "execution_count": 4,
     "metadata": {},
     "output_type": "execute_result"
    }
   ],
   "source": [
    "X = torch.tensor([[0.0, 1.0, 2.0], [3.0, 4.0, 5.0], [6.0, 7.0, 8.0]])\n",
    "K = torch.tensor([[0.0, 1.0], [2.0, 3.0]])\n",
    "corr2d(X, K)\n",
    "# this performs a cross-correlation on the image 3x3 image X with the \n",
    "# 2x2 kernel K"
   ]
  },
  {
   "cell_type": "code",
   "execution_count": 5,
   "id": "ea671b35",
   "metadata": {},
   "outputs": [],
   "source": [
    "class Conv2D(nn.Module):\n",
    "    def __init__(self, kernel_size):\n",
    "        super().__init__()\n",
    "        self.weight = nn.Parameter(torch.rand(kernel_size))\n",
    "        self.bias = nn.Parameter(torch.zeros(1))\n",
    "        # initialised with weight and bias as the two parameters\n",
    "\n",
    "    def forward(self, x):\n",
    "        return corr2d(x, self.weight) + self.bias"
   ]
  },
  {
   "cell_type": "code",
   "execution_count": 6,
   "id": "1f0b7e97",
   "metadata": {},
   "outputs": [],
   "source": [
    "# the forward propogation function calls the corr2d function, adding the bias"
   ]
  },
  {
   "cell_type": "code",
   "execution_count": 10,
   "id": "96e7efaa",
   "metadata": {},
   "outputs": [],
   "source": [
    "def pool2d(X, pool_size, mode='max'):\n",
    "    p_h, p_w = pool_size\n",
    "    Y = torch.zeros((X.shape[0] - p_h + 1, X.shape[1] - p_w + 1))\n",
    "    for i in range(Y.shape[0]):\n",
    "        for j in range(Y.shape[1]):\n",
    "            if mode == 'max':\n",
    "                Y[i, j] = X[i: i + p_h, j: j + p_w].max()\n",
    "            elif mode == 'avg':\n",
    "                Y[i, j] = X[i: i + p_h, j: j + p_w].mean()\n",
    "    return Y\n",
    "# alternatively, use predefined pytorch function nn.MaxPool2d()"
   ]
  },
  {
   "cell_type": "code",
   "execution_count": 8,
   "id": "24ab37a3",
   "metadata": {},
   "outputs": [],
   "source": [
    "# max pooling function - can also apply padding and stride "
   ]
  },
  {
   "cell_type": "markdown",
   "id": "8038af9c",
   "metadata": {},
   "source": [
    "### Actually creating the model"
   ]
  },
  {
   "cell_type": "markdown",
   "id": "3875aefb",
   "metadata": {},
   "source": [
    "Images fed into the model have been changed to grayscale using openCV2, therefore there is only one channel - unlike with RGB having 3 channels."
   ]
  },
  {
   "cell_type": "markdown",
   "id": "6ccd2262",
   "metadata": {},
   "source": [
    "To make feeding the model easier, I will alter my python code so that instead of images being created in a directory on my device, I will create two csv files with the format: x-coordinate, y-coordinate, image. One each for training and testing data. The training data will be split further into training and validation data (possibly use scikit-learn)."
   ]
  },
  {
   "cell_type": "markdown",
   "id": "665abb03",
   "metadata": {},
   "source": [
    "Image refers to the one dimensional numpy array that is created by getData.py"
   ]
  },
  {
   "cell_type": "code",
   "execution_count": 15,
   "id": "c56b97a3",
   "metadata": {},
   "outputs": [],
   "source": [
    "# splits the data training data into training and validation data, returns\n",
    "# 2 dataframes\n",
    "\n",
    "split = 0.2 # splt for validation data\n",
    "\n",
    "def train_test_split(csv_path, split):\n",
    "    df_data = pd.read_csv(csv_path)\n",
    "    len_data = len(df_data)\n",
    "    # calculate the validation data sample length\n",
    "    valid_split = int(len_data * split)\n",
    "    # calculate the training data samples length\n",
    "    train_split = int(len_data - valid_split)\n",
    "    training_samples = df_data.iloc[:train_split][:]\n",
    "    valid_samples = df_data.iloc[-valid_split:][:]\n",
    "    return training_samples, valid_samples"
   ]
  },
  {
   "cell_type": "markdown",
   "id": "444371fd",
   "metadata": {},
   "source": [
    "Images have already been rescaled to 80x60 and converted to grayscale. Coordinates will have to be rescaled."
   ]
  },
  {
   "cell_type": "code",
   "execution_count": null,
   "id": "222bb771",
   "metadata": {},
   "outputs": [],
   "source": []
  },
  {
   "cell_type": "markdown",
   "id": "98ed4f85",
   "metadata": {},
   "source": [
    "## Implementation with LSTM/RNN"
   ]
  },
  {
   "cell_type": "markdown",
   "id": "bde31632",
   "metadata": {},
   "source": [
    "Like previously, includes stages of my learning process.\n",
    "This may be the best option, as it takes into account previous states."
   ]
  },
  {
   "cell_type": "code",
   "execution_count": null,
   "id": "141afe84",
   "metadata": {},
   "outputs": [],
   "source": []
  }
 ],
 "metadata": {
  "kernelspec": {
   "display_name": "Python 3 (ipykernel)",
   "language": "python",
   "name": "python3"
  },
  "language_info": {
   "codemirror_mode": {
    "name": "ipython",
    "version": 3
   },
   "file_extension": ".py",
   "mimetype": "text/x-python",
   "name": "python",
   "nbconvert_exporter": "python",
   "pygments_lexer": "ipython3",
   "version": "3.9.12"
  }
 },
 "nbformat": 4,
 "nbformat_minor": 5
}
