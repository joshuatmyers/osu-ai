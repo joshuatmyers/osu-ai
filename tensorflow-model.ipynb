{
 "cells": [
  {
   "cell_type": "markdown",
   "id": "f02bf5fd",
   "metadata": {},
   "source": [
    "## Implementation using TensorFlow"
   ]
  },
  {
   "cell_type": "markdown",
   "id": "3c61f4bc",
   "metadata": {},
   "source": [
    "Previously having implemented this using FastAI, although not the best is still functional, I have decided to use TensorFlow to implement this again, to allow me to be more flexible and learn more about this framework. After a lot of learning I am now at a point in understanding where creating this model shouldnt be too difficult. This project will be split into 4 parts:\n",
    "* Loading and preparing the data\n",
    "* Creation and compilation of the model\n",
    "* Training the model\n",
    "* Creating the agent (this time not in the notebook!)"
   ]
  },
  {
   "cell_type": "markdown",
   "id": "3c830708",
   "metadata": {},
   "source": [
    "### Library imports"
   ]
  },
  {
   "cell_type": "code",
   "execution_count": null,
   "id": "9a952319",
   "metadata": {},
   "outputs": [],
   "source": [
    "import tensorflow as tf\n",
    "from tensorflow import keras\n",
    "from tensorflow.keras import layers\n",
    "from tensorflow.keras.layers.experimental import preprocessing\n",
    "from tensorflow.keras.preprocessing import image_dataset_from_directory\n",
    "\n",
    "import pandas as pd\n",
    "import numpy as np\n",
    "\n",
    "import matplotlib.pyplot as plt\n",
    "from matplotlib import gridspec\n",
    "\n",
    "# matplotlib defaults\n",
    "plt.rc('figure', autolayout=True)\n",
    "plt.rc('axes', labelweight='bold', labelsize='large',\n",
    "       titleweight='bold', titlesize=18, titlepad=10)\n",
    "plt.rc('image', cmap='magma')\n",
    "warnings.filterwarnings(\"ignore\") # to clean up output cells"
   ]
  },
  {
   "cell_type": "markdown",
   "id": "d3c63e8a",
   "metadata": {},
   "source": [
    "### Part 1 - loading and preperation of the data"
   ]
  },
  {
   "cell_type": "code",
   "execution_count": null,
   "id": "de130f79",
   "metadata": {},
   "outputs": [],
   "source": []
  }
 ],
 "metadata": {
  "kernelspec": {
   "display_name": "Python 3 (ipykernel)",
   "language": "python",
   "name": "python3"
  },
  "language_info": {
   "codemirror_mode": {
    "name": "ipython",
    "version": 3
   },
   "file_extension": ".py",
   "mimetype": "text/x-python",
   "name": "python",
   "nbconvert_exporter": "python",
   "pygments_lexer": "ipython3",
   "version": "3.10.6"
  }
 },
 "nbformat": 4,
 "nbformat_minor": 5
}
