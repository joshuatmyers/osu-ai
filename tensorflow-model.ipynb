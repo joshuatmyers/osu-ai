{
 "cells": [
  {
   "cell_type": "markdown",
   "id": "6e3def01",
   "metadata": {},
   "source": [
    "## Implementation using TensorFlow"
   ]
  },
  {
   "cell_type": "markdown",
   "id": "6dcdf024",
   "metadata": {},
   "source": [
    "Previously having implemented this using FastAI, although not the best is still functional, I have decided to use TensorFlow to implement this again, to allow me to be more flexible and learn more about this framework. After a lot of learning I am now at a point in understanding where creating this model shouldnt be too difficult. This project will be split into 4 parts:\n",
    "* Loading and preparing the data\n",
    "* Creation and compilation of the model\n",
    "* Training the model\n",
    "* Creating the agent (this time not in the notebook!)"
   ]
  },
  {
   "cell_type": "markdown",
   "id": "1a32e93b",
   "metadata": {},
   "source": [
    "### Library imports"
   ]
  },
  {
   "cell_type": "code",
   "execution_count": 1,
   "id": "449d2a45",
   "metadata": {},
   "outputs": [],
   "source": [
    "import tensorflow as tf\n",
    "\n",
    "from tensorflow.keras import layers, models\n",
    "import matplotlib.pyplot as plt\n",
    "\n",
    "import pandas as pd\n",
    "import numpy as np\n",
    "import os, warnings\n",
    "from PIL import Image\n",
    "\n",
    "import os\n",
    "import sys\n",
    "import math\n",
    "\n",
    "from pathlib import Path\n",
    "\n",
    "# matplotlib defaults\n",
    "plt.rc('figure', autolayout=True)\n",
    "plt.rc('axes', labelweight='bold', labelsize='large',\n",
    "       titleweight='bold', titlesize=18, titlepad=10)\n",
    "plt.rc('image', cmap='magma')\n",
    "warnings.filterwarnings(\"ignore\") # to clean up output cells"
   ]
  },
  {
   "cell_type": "markdown",
   "id": "92289efc",
   "metadata": {},
   "source": [
    "### Part 1 - Loading the Data"
   ]
  },
  {
   "cell_type": "code",
   "execution_count": 2,
   "id": "e4702e1a",
   "metadata": {},
   "outputs": [],
   "source": [
    "tf.random.set_seed(42)"
   ]
  },
  {
   "cell_type": "code",
   "execution_count": 3,
   "id": "725f78dd",
   "metadata": {},
   "outputs": [],
   "source": [
    "def get_frames(frames_path):\n",
    "    files = os.listdir(frames_path)\n",
    "    print(\"Number of files in the path is : \", len(files))\n",
    "\n",
    "    frame_list = []\n",
    "    for i in range(len(files)):\n",
    "        frame_name = 'frame-'+str(i)+\".jpg\"\n",
    "        file = os.path.join(frames_path, frame_name)\n",
    "        frame_list.append(file)\n",
    "        # print(file)\n",
    "        # print(os.path.exists(file))\n",
    "        # cnt +=1\n",
    "        # if cnt>=10:\n",
    "        #   break\n",
    "    return frame_list"
   ]
  },
  {
   "cell_type": "code",
   "execution_count": 4,
   "id": "f8af39c7",
   "metadata": {},
   "outputs": [
    {
     "name": "stdout",
     "output_type": "stream",
     "text": [
      "Coordinates of first dataset\n",
      "       x      y\n",
      "0  46.40  13.90\n",
      "1  46.55  13.35\n",
      "2  46.40  13.20\n",
      "3  46.40  13.20\n",
      "4  46.55  13.30\n"
     ]
    }
   ],
   "source": [
    "coordinates = pd.read_csv(\"C:/Users/Joshua/Desktop/Projects/Python/osu-ai/osu-ai/data/coordinates.csv\")\n",
    "print(\"Coordinates of first dataset\")\n",
    "print(coordinates.head())"
   ]
  },
  {
   "cell_type": "code",
   "execution_count": 7,
   "id": "6fefdd3f",
   "metadata": {},
   "outputs": [],
   "source": [
    "def get_coordinates_with_frame_name(coordinates, frames_path):\n",
    "    frame_list = get_frames(frames_path)\n",
    "    assert (len(frame_list) == len(coordinates)), \"Number of frames and co-ordinates must be equal\"\n",
    "    coordinates.insert(0, 'frame', frame_list )\n",
    "    return coordinates"
   ]
  },
  {
   "cell_type": "code",
   "execution_count": 8,
   "id": "692f7b09",
   "metadata": {},
   "outputs": [
    {
     "name": "stdout",
     "output_type": "stream",
     "text": [
      "Number of files in the path is :  7770\n",
      "                                               frame      x      y\n",
      "0  C:/Users/Joshua/Desktop/Projects/Python/osu-ai...  46.40  13.90\n",
      "1  C:/Users/Joshua/Desktop/Projects/Python/osu-ai...  46.55  13.35\n",
      "2  C:/Users/Joshua/Desktop/Projects/Python/osu-ai...  46.40  13.20\n",
      "3  C:/Users/Joshua/Desktop/Projects/Python/osu-ai...  46.40  13.20\n",
      "4  C:/Users/Joshua/Desktop/Projects/Python/osu-ai...  46.55  13.30\n"
     ]
    }
   ],
   "source": [
    "coordinates = get_coordinates_with_frame_name(coordinates, \"C:/Users/Joshua/Desktop/Projects/Python/osu-ai/osu-ai/data/frames\")\n",
    "print(coordinates.head())"
   ]
  },
  {
   "cell_type": "markdown",
   "id": "904d79ad",
   "metadata": {},
   "source": [
    "### Part 2 - Processing the Data (Dataloaders)"
   ]
  },
  {
   "cell_type": "code",
   "execution_count": 20,
   "id": "1e9257d7",
   "metadata": {},
   "outputs": [],
   "source": [
    "from skimage.io import imread\n",
    "from skimage.transform import resize"
   ]
  },
  {
   "cell_type": "code",
   "execution_count": 21,
   "id": "c944c709",
   "metadata": {},
   "outputs": [],
   "source": [
    "# Here, `x_set` is list of path to the images\n",
    "# and `y_set` are the associated classes.\n",
    "\n",
    "class TrainDataSequence(tf.keras.utils.Sequence):\n",
    "\n",
    "    def __init__(self, df, batch_size):\n",
    "        self.batch_size = batch_size\n",
    "        self.df = df\n",
    "\n",
    "    def __len__(self):\n",
    "        return math.ceil(len(self.df) / self.batch_size)\n",
    "\n",
    "    def __getitem__(self, idx):\n",
    "        batch_x = self.df['frame'][idx * self.batch_size:(idx + 1) *\n",
    "        self.batch_size]\n",
    "        batch_y1 = self.df['x'][idx * self.batch_size:(idx + 1) *\n",
    "        self.batch_size]\n",
    "        batch_y2 = self.df[' y'][idx * self.batch_size:(idx + 1) *\n",
    "        self.batch_size]\n",
    "\n",
    "        frames = []\n",
    "        positions = []\n",
    "        for frame, x, y in zip(batch_x, batch_y1,batch_y2):\n",
    "            frame_img = resize(imread(frame), (60,80,1))\n",
    "            frames.append(frame_img)\n",
    "            positions.append([x,y])\n",
    "\n",
    "        return np.array(frames), np.array(positions)"
   ]
  },
  {
   "cell_type": "code",
   "execution_count": 22,
   "id": "8d3e53e4",
   "metadata": {},
   "outputs": [],
   "source": [
    "# Here, `x_set` is list of path to the images\n",
    "# and `y_set` are the associated classes.\n",
    "\n",
    "class TestDataSequence(tf.keras.utils.Sequence):\n",
    "\n",
    "    def __init__(self, df, batch_size):\n",
    "        self.batch_size = batch_size\n",
    "        self.df = df\n",
    "\n",
    "    def __len__(self):\n",
    "        return math.ceil(len(self.df) / self.batch_size)\n",
    "\n",
    "    def __getitem__(self, idx):\n",
    "        batch_x = self.df['frame'][idx * self.batch_size:(idx + 1) *\n",
    "        self.batch_size]\n",
    "        batch_y1 = self.df['x'][idx * self.batch_size:(idx + 1) *\n",
    "        self.batch_size]\n",
    "        batch_y2 = self.df[' y'][idx * self.batch_size:(idx + 1) *\n",
    "        self.batch_size]\n",
    "\n",
    "        frames = []\n",
    "        positions = []\n",
    "        for frame, x, y in zip(batch_x, batch_y1,batch_y2):\n",
    "            frame_img = resize(imread(frame), (60,80,1))\n",
    "            frames.append(frame_img)\n",
    "            positions.append([x,y])\n",
    "\n",
    "        return np.array(frames), np.array(positions)\n"
   ]
  },
  {
   "cell_type": "markdown",
   "id": "4bf59aae",
   "metadata": {},
   "source": [
    "### Part 3 - Creation and compilation of Model"
   ]
  },
  {
   "cell_type": "code",
   "execution_count": 29,
   "id": "6adecee4",
   "metadata": {},
   "outputs": [],
   "source": [
    "from tensorflow.keras import regularizers\n",
    "from tensorflow.keras.utils import plot_model\n",
    "from IPython.display import Image"
   ]
  },
  {
   "cell_type": "code",
   "execution_count": 24,
   "id": "28b801f3",
   "metadata": {},
   "outputs": [],
   "source": [
    "model = models.Sequential()\n",
    "model.add(layers.Conv2D(32, (3, 3), activation='relu', input_shape=(60, 80,1),))\n",
    "# model.add(layers.Conv2D(64, (3, 3), activation='relu'))\n",
    "model.add(layers.MaxPooling2D((2, 2)))\n",
    "model.add(layers.Conv2D(64, (3, 3), activation='relu'))\n",
    "# model.add(layers.Conv2D(32, (3, 3), activation='relu'))\n",
    "model.add(layers.MaxPooling2D((2, 2)))\n",
    "model.add(layers.Conv2D(32, (3, 3), activation='relu'))\n",
    "model.add(layers.Flatten())\n",
    "model.add(layers.Dense(64, activation='relu'))\n",
    "model.add(layers.Dense(32, activation='relu'))\n",
    "model.add(layers.Dropout(0.2))\n",
    "model.add(layers.Dense(2, activation='linear'))"
   ]
  },
  {
   "cell_type": "code",
   "execution_count": 36,
   "id": "e9d996af",
   "metadata": {},
   "outputs": [
    {
     "name": "stdout",
     "output_type": "stream",
     "text": [
      "[INFO] compiling model...\n"
     ]
    }
   ],
   "source": [
    "print(\"[INFO] compiling model...\")\n",
    "model.compile(loss=tf.keras.losses.MeanAbsoluteError(), optimizer=tf.keras.optimizers.Adam(learning_rate=0.001))\n",
    "# metrics=tf.keras.metrics.mean_absolute_error"
   ]
  },
  {
   "cell_type": "code",
   "execution_count": 37,
   "id": "133bbd58",
   "metadata": {},
   "outputs": [
    {
     "name": "stdout",
     "output_type": "stream",
     "text": [
      "Model: \"sequential_2\"\n",
      "_________________________________________________________________\n",
      " Layer (type)                Output Shape              Param #   \n",
      "=================================================================\n",
      " conv2d_6 (Conv2D)           (None, 58, 78, 32)        320       \n",
      "                                                                 \n",
      " max_pooling2d_4 (MaxPooling  (None, 29, 39, 32)       0         \n",
      " 2D)                                                             \n",
      "                                                                 \n",
      " conv2d_7 (Conv2D)           (None, 27, 37, 64)        18496     \n",
      "                                                                 \n",
      " max_pooling2d_5 (MaxPooling  (None, 13, 18, 64)       0         \n",
      " 2D)                                                             \n",
      "                                                                 \n",
      " conv2d_8 (Conv2D)           (None, 11, 16, 32)        18464     \n",
      "                                                                 \n",
      " flatten_2 (Flatten)         (None, 5632)              0         \n",
      "                                                                 \n",
      " dense_6 (Dense)             (None, 64)                360512    \n",
      "                                                                 \n",
      " dense_7 (Dense)             (None, 32)                2080      \n",
      "                                                                 \n",
      " dropout_2 (Dropout)         (None, 32)                0         \n",
      "                                                                 \n",
      " dense_8 (Dense)             (None, 2)                 66        \n",
      "                                                                 \n",
      "=================================================================\n",
      "Total params: 399,938\n",
      "Trainable params: 399,938\n",
      "Non-trainable params: 0\n",
      "_________________________________________________________________\n"
     ]
    }
   ],
   "source": [
    "model.summary()"
   ]
  },
  {
   "cell_type": "markdown",
   "id": "95f8fa42",
   "metadata": {},
   "source": [
    "### Part 4 - Training the Model"
   ]
  },
  {
   "cell_type": "code",
   "execution_count": 43,
   "id": "d05c80e5",
   "metadata": {},
   "outputs": [],
   "source": [
    "train_sequence =  TrainDataSequence(coordinates[:5000],batch_size = 32)\n",
    "# print(*train_sequence)\n",
    "test_sequence =  TestDataSequence(coordinates[5000:],batch_size = 32)"
   ]
  },
  {
   "cell_type": "markdown",
   "id": "e75948e9",
   "metadata": {},
   "source": [
    "Create a callback function for the model to stop overfitting"
   ]
  },
  {
   "cell_type": "code",
   "execution_count": null,
   "id": "5ca95e37",
   "metadata": {},
   "outputs": [
    {
     "name": "stdout",
     "output_type": "stream",
     "text": [
      "Epoch 1/10\n",
      "157/157 [==============================] - 16s 101ms/step - loss: 7.3447 - val_loss: 6.8406\n",
      "Epoch 2/10\n",
      "157/157 [==============================] - 15s 95ms/step - loss: 7.4085 - val_loss: 6.8389\n",
      "Epoch 3/10\n",
      "157/157 [==============================] - 14s 91ms/step - loss: 7.4197 - val_loss: 6.8432\n",
      "Epoch 4/10\n",
      "157/157 [==============================] - 14s 90ms/step - loss: 7.4475 - val_loss: 6.8405\n",
      "Epoch 5/10\n",
      "157/157 [==============================] - 14s 88ms/step - loss: 7.4224 - val_loss: 6.8366\n",
      "Epoch 6/10\n",
      "157/157 [==============================] - ETA: 0s - loss: 7.4543"
     ]
    }
   ],
   "source": [
    "history = model.fit(train_sequence, validation_data = test_sequence, epochs = 10, verbose=1)"
   ]
  },
  {
   "cell_type": "code",
   "execution_count": 46,
   "id": "2324a7a1",
   "metadata": {},
   "outputs": [
    {
     "data": {
      "text/plain": [
       "<matplotlib.legend.Legend at 0x197eafef580>"
      ]
     },
     "execution_count": 46,
     "metadata": {},
     "output_type": "execute_result"
    },
    {
     "data": {
      "image/png": "[encoded data removed]",
      "text/plain": [
       "<Figure size 640x480 with 1 Axes>"
      ]
     },
     "metadata": {},
     "output_type": "display_data"
    }
   ],
   "source": [
    "# epoch vs loss graph\n",
    "plt.title('Loss')\n",
    "plt.plot(history.history['loss'], label='train')\n",
    "plt.plot(history.history['val_loss'], label='test')\n",
    "plt.legend()"
   ]
  },
  {
   "cell_type": "code",
   "execution_count": 47,
   "id": "a80e9f37",
   "metadata": {},
   "outputs": [],
   "source": [
    "def make_prediction(img_path):\n",
    "    img = resize(imread(img_path), (60,80,1))\n",
    "    img = np.expand_dims(img, axis=0)\n",
    "    pred = model.predict(img)\n",
    "    print(pred)\n",
    "\n",
    "    return pred"
   ]
  },
  {
   "cell_type": "code",
   "execution_count": null,
   "id": "dbd05159",
   "metadata": {},
   "outputs": [],
   "source": [
    "img_path = \"\"\n",
    "pred = make_prediction(img_path)"
   ]
  }
 ],
 "metadata": {
  "kernelspec": {
   "display_name": "Python 3 (ipykernel)",
   "language": "python",
   "name": "python3"
  },
  "language_info": {
   "codemirror_mode": {
    "name": "ipython",
    "version": 3
   },
   "file_extension": ".py",
   "mimetype": "text/x-python",
   "name": "python",
   "nbconvert_exporter": "python",
   "pygments_lexer": "ipython3",
   "version": "3.9.12"
  }
 },
 "nbformat": 4,
 "nbformat_minor": 5
}
