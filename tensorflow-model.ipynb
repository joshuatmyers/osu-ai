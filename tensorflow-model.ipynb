{
 "cells": [
  {
   "cell_type": "markdown",
   "id": "6e3def01",
   "metadata": {},
   "source": [
    "## Implementation using TensorFlow"
   ]
  },
  {
   "cell_type": "markdown",
   "id": "6dcdf024",
   "metadata": {},
   "source": [
    "Previously having implemented this using FastAI, although not the best is still functional, I have decided to use TensorFlow to implement this again, to allow me to be more flexible and learn more about this framework. After a lot of learning I am now at a point in understanding where creating this model shouldnt be too difficult. This project will be split into 4 parts:\n",
    "* Loading and preparing the data\n",
    "* Creation and compilation of the model\n",
    "* Training the model\n",
    "* Creating the agent (this time not in the notebook!)"
   ]
  },
  {
   "cell_type": "markdown",
   "id": "1a32e93b",
   "metadata": {},
   "source": [
    "### Library imports"
   ]
  },
  {
   "cell_type": "code",
   "execution_count": 1,
   "id": "449d2a45",
   "metadata": {},
   "outputs": [],
   "source": [
    "import tensorflow as tf\n",
    "\n",
    "from tensorflow.keras import layers, models\n",
    "import matplotlib.pyplot as plt\n",
    "\n",
    "import pandas as pd\n",
    "import numpy as np\n",
    "import os, warnings\n",
    "from PIL import Image\n",
    "\n",
    "import os\n",
    "import sys\n",
    "import math\n",
    "\n",
    "from pathlib import Path\n",
    "\n",
    "# matplotlib defaults\n",
    "plt.rc('figure', autolayout=True)\n",
    "plt.rc('axes', labelweight='bold', labelsize='large',\n",
    "       titleweight='bold', titlesize=18, titlepad=10)\n",
    "plt.rc('image', cmap='magma')\n",
    "warnings.filterwarnings(\"ignore\") # to clean up output cells"
   ]
  },
  {
   "cell_type": "markdown",
   "id": "92289efc",
   "metadata": {},
   "source": [
    "### Part 1 - Loading the Data"
   ]
  },
  {
   "cell_type": "code",
   "execution_count": 2,
   "id": "e4702e1a",
   "metadata": {},
   "outputs": [],
   "source": [
    "tf.random.set_seed(42)"
   ]
  },
  {
   "cell_type": "code",
   "execution_count": 3,
   "id": "b79778ae",
   "metadata": {},
   "outputs": [],
   "source": [
    "def get_frames(frames_path):\n",
    "    files = os.listdir(frames_path)\n",
    "    print(\"Number of files in the path is : \", len(files))\n",
    "\n",
    "    frame_list = []\n",
    "    for i in range(len(files)):\n",
    "        frame_name = 'frame-'+str(i)+\".jpg\"\n",
    "        file = os.path.join(frames_path, frame_name)\n",
    "        frame_list.append(file)\n",
    "        # print(file)\n",
    "        # print(os.path.exists(file))\n",
    "        # cnt +=1\n",
    "        # if cnt>=10:\n",
    "        #   break\n",
    "    return frame_list"
   ]
  },
  {
   "cell_type": "code",
   "execution_count": 4,
   "id": "1963eed0",
   "metadata": {},
   "outputs": [
    {
     "name": "stdout",
     "output_type": "stream",
     "text": [
      "Coordinates of first dataset\n",
      "       x      y\n",
      "0  46.40  13.90\n",
      "1  46.55  13.35\n",
      "2  46.40  13.20\n",
      "3  46.40  13.20\n",
      "4  46.55  13.30\n"
     ]
    }
   ],
   "source": [
    "coordinates = pd.read_csv(\"C:/Users/Joshua/Desktop/Projects/Python/osu-ai/osu-ai/data/coordinates.csv\")\n",
    "print(\"Coordinates of first dataset\")\n",
    "print(coordinates.head())"
   ]
  },
  {
   "cell_type": "code",
   "execution_count": 7,
   "id": "de2fff31",
   "metadata": {},
   "outputs": [],
   "source": [
    "def get_coordinates_with_frame_name(coordinates, frames_path):\n",
    "    frame_list = get_frames(frames_path)\n",
    "    assert (len(frame_list) == len(coordinates)), \"Number of frames and co-ordinates must be equal\"\n",
    "    coordinates.insert(0, 'frame', frame_list )\n",
    "    return coordinates"
   ]
  },
  {
   "cell_type": "code",
   "execution_count": 8,
   "id": "de1fd8cd",
   "metadata": {},
   "outputs": [
    {
     "name": "stdout",
     "output_type": "stream",
     "text": [
      "Number of files in the path is :  7770\n",
      "                                               frame      x      y\n",
      "0  C:/Users/Joshua/Desktop/Projects/Python/osu-ai...  46.40  13.90\n",
      "1  C:/Users/Joshua/Desktop/Projects/Python/osu-ai...  46.55  13.35\n",
      "2  C:/Users/Joshua/Desktop/Projects/Python/osu-ai...  46.40  13.20\n",
      "3  C:/Users/Joshua/Desktop/Projects/Python/osu-ai...  46.40  13.20\n",
      "4  C:/Users/Joshua/Desktop/Projects/Python/osu-ai...  46.55  13.30\n"
     ]
    }
   ],
   "source": [
    "coordinates = get_coordinates_with_frame_name(coordinates, \"C:/Users/Joshua/Desktop/Projects/Python/osu-ai/osu-ai/data/frames\")\n",
    "print(coordinates.head())"
   ]
  },
  {
   "cell_type": "markdown",
   "id": "a75d505b",
   "metadata": {},
   "source": [
    "### Part 2 - Processing the Data (Dataloaders)"
   ]
  },
  {
   "cell_type": "code",
   "execution_count": 20,
   "id": "5df9765f",
   "metadata": {},
   "outputs": [],
   "source": [
    "from skimage.io import imread\n",
    "from skimage.transform import resize"
   ]
  },
  {
   "cell_type": "code",
   "execution_count": 21,
   "id": "46409b77",
   "metadata": {},
   "outputs": [],
   "source": [
    "# Here, `x_set` is list of path to the images\n",
    "# and `y_set` are the associated classes.\n",
    "\n",
    "class TrainDataSequence(tf.keras.utils.Sequence):\n",
    "\n",
    "    def __init__(self, df, batch_size):\n",
    "        self.batch_size = batch_size\n",
    "        self.df = df\n",
    "\n",
    "    def __len__(self):\n",
    "        return math.ceil(len(self.df) / self.batch_size)\n",
    "\n",
    "    def __getitem__(self, idx):\n",
    "        batch_x = self.df['frame'][idx * self.batch_size:(idx + 1) *\n",
    "        self.batch_size]\n",
    "        batch_y1 = self.df['x'][idx * self.batch_size:(idx + 1) *\n",
    "        self.batch_size]\n",
    "        batch_y2 = self.df[' y'][idx * self.batch_size:(idx + 1) *\n",
    "        self.batch_size]\n",
    "\n",
    "        frames = []\n",
    "        positions = []\n",
    "        for frame, x, y in zip(batch_x, batch_y1,batch_y2):\n",
    "            frame_img = resize(imread(frame), (60,80,1))\n",
    "            frames.append(frame_img)\n",
    "            positions.append([x,y])\n",
    "\n",
    "        return np.array(frames), np.array(positions)"
   ]
  },
  {
   "cell_type": "code",
   "execution_count": 22,
   "id": "996dfe73",
   "metadata": {},
   "outputs": [],
   "source": [
    "# Here, `x_set` is list of path to the images\n",
    "# and `y_set` are the associated classes.\n",
    "\n",
    "class TestDataSequence(tf.keras.utils.Sequence):\n",
    "\n",
    "    def __init__(self, df, batch_size):\n",
    "        self.batch_size = batch_size\n",
    "        self.df = df\n",
    "\n",
    "    def __len__(self):\n",
    "        return math.ceil(len(self.df) / self.batch_size)\n",
    "\n",
    "    def __getitem__(self, idx):\n",
    "        batch_x = self.df['frame'][idx * self.batch_size:(idx + 1) *\n",
    "        self.batch_size]\n",
    "        batch_y1 = self.df['x'][idx * self.batch_size:(idx + 1) *\n",
    "        self.batch_size]\n",
    "        batch_y2 = self.df[' y'][idx * self.batch_size:(idx + 1) *\n",
    "        self.batch_size]\n",
    "\n",
    "        frames = []\n",
    "        positions = []\n",
    "        for frame, x, y in zip(batch_x, batch_y1,batch_y2):\n",
    "            frame_img = resize(imread(frame), (60,80,1))\n",
    "            frames.append(frame_img)\n",
    "            positions.append([x,y])\n",
    "\n",
    "        return np.array(frames), np.array(positions)\n"
   ]
  },
  {
   "cell_type": "code",
   "execution_count": null,
   "id": "a405a6c8",
   "metadata": {},
   "outputs": [],
   "source": []
  }
 ],
 "metadata": {
  "kernelspec": {
   "display_name": "Python 3 (ipykernel)",
   "language": "python",
   "name": "python3"
  },
  "language_info": {
   "codemirror_mode": {
    "name": "ipython",
    "version": 3
   },
   "file_extension": ".py",
   "mimetype": "text/x-python",
   "name": "python",
   "nbconvert_exporter": "python",
   "pygments_lexer": "ipython3",
   "version": "3.9.12"
  }
 },
 "nbformat": 4,
 "nbformat_minor": 5
}
